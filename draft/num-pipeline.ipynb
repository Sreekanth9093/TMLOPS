{
 "cells": [
  {
   "cell_type": "code",
   "execution_count": 1,
   "id": "53458df7-0c6e-48ab-b0b1-ce4e68896652",
   "metadata": {},
   "outputs": [
    {
     "name": "stderr",
     "output_type": "stream",
     "text": [
      "C:\\python\\Lib\\site-packages\\kfp\\dsl\\component_decorator.py:126: FutureWarning: The default base_image used by the @dsl.component decorator will switch from 'python:3.9' to 'python:3.10' on Oct 1, 2025. To ensure your existing components work with versions of the KFP SDK released after that date, you should provide an explicit base_image argument and ensure your component works as intended on Python 3.10.\n",
      "  return component_factory.create_component_from_func(\n"
     ]
    }
   ],
   "source": [
    "from kfp import dsl\n",
    "\n",
    "@dsl.component()\n",
    "def num_add(a: int,b: int) -> int:\n",
    "    return a+b\n",
    "\n",
    "@dsl.component\n",
    "def num_sub(c: int,d: int) -> int:\n",
    "    return c-d\n",
    "\n",
    "@dsl.component\n",
    "def num_mul(e: int,f: int) -> int:\n",
    "    return e*f\n",
    "\n",
    "@dsl.pipeline\n",
    "def num_pipeline(a:int=1,b:int=2,c:int=3,d:int=4) -> int:\n",
    "    \n",
    "    num_add_task1 = num_add(a=a,b=b)\n",
    "    num_sub_task2 = num_sub(c=c,d=d)\n",
    "    num_mul_task3 = num_mul(e=num_add_task1.output,f=num_sub_task2.output)\n",
    "    \n",
    "    return num_mul_task3.output"
   ]
  },
  {
   "cell_type": "code",
   "execution_count": 2,
   "id": "d8d2bc7e-e8f6-49b2-9169-86c7aa84c100",
   "metadata": {},
   "outputs": [],
   "source": [
    "from kfp import compiler\n",
    "\n",
    "compiler.Compiler().compile(num_pipeline, 'num_pipeline.yaml')"
   ]
  },
  {
   "cell_type": "code",
   "execution_count": null,
   "id": "1d6ba027-fa4e-4885-944e-50f2f2231bf2",
   "metadata": {},
   "outputs": [],
   "source": []
  }
 ],
 "metadata": {
  "kernelspec": {
   "display_name": "Python 3 (ipykernel)",
   "language": "python",
   "name": "python3"
  },
  "language_info": {
   "codemirror_mode": {
    "name": "ipython",
    "version": 3
   },
   "file_extension": ".py",
   "mimetype": "text/x-python",
   "name": "python",
   "nbconvert_exporter": "python",
   "pygments_lexer": "ipython3",
   "version": "3.13.3"
  }
 },
 "nbformat": 4,
 "nbformat_minor": 5
}
